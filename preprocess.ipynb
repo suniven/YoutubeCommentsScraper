{
 "cells": [
  {
   "cell_type": "code",
   "execution_count": 1,
   "metadata": {},
   "outputs": [
    {
     "data": {
      "text/plain": [
       "131072"
      ]
     },
     "execution_count": 1,
     "metadata": {},
     "output_type": "execute_result"
    }
   ],
   "source": [
    "import pandas as pd\n",
    "import csv\n",
    "\n",
    "pd.set_option(\"display.max_columns\", None)\n",
    "pd.set_option(\"display.max_rows\", 30)\n",
    "csv.field_size_limit(500 * 1024 * 1024)"
   ]
  },
  {
   "cell_type": "code",
   "execution_count": 2,
   "metadata": {},
   "outputs": [],
   "source": [
    "import os\n",
    "\n",
    "\n",
    "def find_all_files(base):\n",
    "    for root, ds, fs in os.walk(base):\n",
    "        for f in fs:\n",
    "            if f.endswith(\".csv\"):\n",
    "                fullname = os.path.join(root, f)\n",
    "                yield fullname"
   ]
  },
  {
   "cell_type": "code",
   "execution_count": 3,
   "metadata": {},
   "outputs": [],
   "source": [
    "def join_df():\n",
    "    new_df = pd.DataFrame()\n",
    "    file_path = './comments_with_URL/'\n",
    "    output_path = './all_comments_with_URL.csv'\n",
    "    for file in find_all_files(file_path):\n",
    "        print(file)\n",
    "        df = pd.read_csv(file)\n",
    "        new_df = pd.concat([df, new_df], ignore_index=True)\n",
    "\n",
    "    new_df.to_csv(output_path, index = False)"
   ]
  },
  {
   "cell_type": "code",
   "execution_count": 4,
   "metadata": {},
   "outputs": [
    {
     "name": "stdout",
     "output_type": "stream",
     "text": [
      "./comments_with_URL/comments_1672368666.910669.csv\n",
      "./comments_with_URL/comments_1672376173.173301.csv\n",
      "./comments_with_URL/comments_1672383798.337128.csv\n",
      "./comments_with_URL/comments_1672404890.361935.csv\n",
      "./comments_with_URL/comments_1672446820.072595.csv\n",
      "./comments_with_URL/comments_1672454127.684904.csv\n",
      "./comments_with_URL/comments_1672462169.778541.csv\n",
      "./comments_with_URL/comments_1672472073.176365.csv\n",
      "./comments_with_URL/comments_1672481705.064816.csv\n",
      "./comments_with_URL/comments_1672491590.331209.csv\n",
      "./comments_with_URL/comments_1672530860.16994.csv\n",
      "./comments_with_URL/comments_1672539146.517207.csv\n",
      "./comments_with_URL/comments_1672557820.752909.csv\n",
      "./comments_with_URL/comments_1672568825.801834.csv\n",
      "./comments_with_URL/comments_1672619040.165303.csv\n",
      "./comments_with_URL/comments_1672728405.28309.csv\n",
      "./comments_with_URL/comments_1672740501.537131.csv\n",
      "./comments_with_URL/comments_1672749220.420837.csv\n",
      "./comments_with_URL/comments_1672791623.498755.csv\n",
      "./comments_with_URL/comments_1672810828.611273.csv\n",
      "./comments_with_URL/comments_1672820308.787414.csv\n",
      "./comments_with_URL/comments_1672880495.131018.csv\n",
      "./comments_with_URL/comments_1672887925.212786.csv\n",
      "./comments_with_URL/comments_1672896194.04401.csv\n",
      "./comments_with_URL/comments_1672907492.301157.csv\n",
      "./comments_with_URL/comments_1672916415.390875.csv\n",
      "./comments_with_URL/comments_1672925887.630645.csv\n",
      "./comments_with_URL/comments_1672964667.287655.csv\n",
      "./comments_with_URL/comments_1673006145.953923.csv\n",
      "./comments_with_URL/comments_1673052499.579882.csv\n",
      "./comments_with_URL/comments_1673060606.205159.csv\n",
      "./comments_with_URL/comments_1673081842.349098.csv\n",
      "./comments_with_URL/comments_1673095688.002577.csv\n",
      "./comments_with_URL/comments_1673138433.619531.csv\n",
      "./comments_with_URL/comments_1673176973.230746.csv\n",
      "./comments_with_URL/comments_1673191226.181814.csv\n",
      "./comments_with_URL/comments_1673224388.509565.csv\n",
      "./comments_with_URL/comments_1673231902.378956.csv\n",
      "./comments_with_URL/comments_1673241785.462092.csv\n",
      "./comments_with_URL/comments_1673264702.721861.csv\n",
      "./comments_with_URL/comments_1673344402.729844.csv\n"
     ]
    }
   ],
   "source": [
    "join_df()"
   ]
  },
  {
   "cell_type": "code",
   "execution_count": 20,
   "metadata": {},
   "outputs": [],
   "source": [
    "df = pd.read_csv('./all_comments_with_URL.csv')"
   ]
  },
  {
   "cell_type": "code",
   "execution_count": 21,
   "metadata": {},
   "outputs": [],
   "source": [
    "df = df.reindex(columns = df.columns.to_list() + ['urls'])"
   ]
  },
  {
   "cell_type": "code",
   "execution_count": 22,
   "metadata": {},
   "outputs": [],
   "source": [
    "df.urls = None"
   ]
  },
  {
   "cell_type": "code",
   "execution_count": 23,
   "metadata": {},
   "outputs": [
    {
     "name": "stderr",
     "output_type": "stream",
     "text": [
      "100%|██████████| 662154/662154 [00:13<00:00, 49854.11it/s]\n"
     ]
    }
   ],
   "source": [
    "from tqdm import tqdm\n",
    "import re\n",
    "\n",
    "for i in tqdm(range(len(df))):\n",
    "    urls = re.findall('''<a href=\"(http.+?)\">''', df.loc[i, 'comment_display']) # 提取URL\n",
    "    reserve = []\n",
    "    for url in urls:\n",
    "        if \"youtube.com\" in url or \"youtu.be\" in url or \"youtube.be\" in url or url.endswith(\".gif\"):    # 排除表情包和youube站内链接\n",
    "            continue\n",
    "        else:\n",
    "            reserve.append(url)\n",
    "    if reserve:\n",
    "        df.at[i, 'urls'] = reserve"
   ]
  },
  {
   "cell_type": "code",
   "execution_count": 24,
   "metadata": {},
   "outputs": [],
   "source": [
    "df[~df['urls'].isna()].to_csv('./all_comments_with_URL (no youtube).csv', index = False)"
   ]
  },
  {
   "cell_type": "code",
   "execution_count": 25,
   "metadata": {},
   "outputs": [],
   "source": [
    "df_1 = pd.read_csv('./all_comments_with_URL (no youtube).csv')"
   ]
  },
  {
   "cell_type": "code",
   "execution_count": 26,
   "metadata": {},
   "outputs": [
    {
     "data": {
      "text/plain": [
       "17645"
      ]
     },
     "execution_count": 26,
     "metadata": {},
     "output_type": "execute_result"
    }
   ],
   "source": [
    "df_1.video_id.nunique()"
   ]
  },
  {
   "cell_type": "code",
   "execution_count": 27,
   "metadata": {},
   "outputs": [
    {
     "data": {
      "text/html": [
       "<div>\n",
       "<style scoped>\n",
       "    .dataframe tbody tr th:only-of-type {\n",
       "        vertical-align: middle;\n",
       "    }\n",
       "\n",
       "    .dataframe tbody tr th {\n",
       "        vertical-align: top;\n",
       "    }\n",
       "\n",
       "    .dataframe thead th {\n",
       "        text-align: right;\n",
       "    }\n",
       "</style>\n",
       "<table border=\"1\" class=\"dataframe\">\n",
       "  <thead>\n",
       "    <tr style=\"text-align: right;\">\n",
       "      <th></th>\n",
       "      <th>video_id</th>\n",
       "      <th>comment_id</th>\n",
       "      <th>comment_display</th>\n",
       "      <th>comment_original</th>\n",
       "      <th>author_name</th>\n",
       "      <th>author_profile_img_url</th>\n",
       "      <th>author_channel_url</th>\n",
       "      <th>author_channel_id</th>\n",
       "      <th>publish_date</th>\n",
       "      <th>urls</th>\n",
       "    </tr>\n",
       "  </thead>\n",
       "  <tbody>\n",
       "    <tr>\n",
       "      <th>0</th>\n",
       "      <td>fFifeQ_JqwE</td>\n",
       "      <td>Ugy86jwFsLK8EpbwE-N4AaABAg</td>\n",
       "      <td>&lt;a href=\"about:invalid#zCSafez\"&gt;&lt;/a&gt;&lt;a href=\"a...</td>\n",
       "      <td>\\r\\n20:23 Son unos de los  in.sv/MSTER_RAIZEL3...</td>\n",
       "      <td>Rose Froude</td>\n",
       "      <td>https://yt3.ggpht.com/WLcw9T6jJ1aQlXhlAQ5uQHwu...</td>\n",
       "      <td>http://www.youtube.com/channel/UCWpDmqyLCVHKuC...</td>\n",
       "      <td>UCWpDmqyLCVHKuCjdVpQrRLw</td>\n",
       "      <td>2022-12-31T15:56:12Z</td>\n",
       "      <td>['http://in.sv/MSTER_RAIZEL33']</td>\n",
       "    </tr>\n",
       "    <tr>\n",
       "      <th>1</th>\n",
       "      <td>qpx5ExL6f7I</td>\n",
       "      <td>UgypRJ5PTeRL07441i94AaABAg</td>\n",
       "      <td>That&amp;#39;s skin infection caused by ring worms...</td>\n",
       "      <td>That's skin infection caused by ring worms. It...</td>\n",
       "      <td>Jeonben07</td>\n",
       "      <td>https://yt3.ggpht.com/Vc3Ide5uFiI6oM0snMIyjUk2...</td>\n",
       "      <td>http://www.youtube.com/channel/UCjjsbYXufcXswf...</td>\n",
       "      <td>UCjjsbYXufcXswfd5sPxwtxA</td>\n",
       "      <td>2023-01-01T10:07:53Z</td>\n",
       "      <td>['http://doc.lol/']</td>\n",
       "    </tr>\n",
       "    <tr>\n",
       "      <th>2</th>\n",
       "      <td>d7HmbK0X9Uw</td>\n",
       "      <td>Ugxjp25oZFD6bP1FkyJ4AaABAg</td>\n",
       "      <td>gran canción&lt;br&gt;&lt;a href=\"about:invalid#zCSafez...</td>\n",
       "      <td>gran canción\\n\\n20:23 MY PHOTOS HE RE 4.FO/HOL...</td>\n",
       "      <td>Kylen Hondryan</td>\n",
       "      <td>https://yt3.ggpht.com/ytc/AMLnZu_Gh8TnejNnDEVl...</td>\n",
       "      <td>http://www.youtube.com/channel/UCVaFe8_hwIJ15E...</td>\n",
       "      <td>UCVaFe8_hwIJ15E0tzqaQSNA</td>\n",
       "      <td>2023-01-09T05:12:32Z</td>\n",
       "      <td>['http://4.fo/HOLLYSPUSSY']</td>\n",
       "    </tr>\n",
       "    <tr>\n",
       "      <th>3</th>\n",
       "      <td>d7HmbK0X9Uw</td>\n",
       "      <td>UgwTLRm9iWq_VDGboD14AaABAg</td>\n",
       "      <td>Hezká písnička hrozně se mi líbí&lt;br&gt;&lt;a href=\"a...</td>\n",
       "      <td>Hezká písnička hrozně se mi líbí\\n\\n20:23 Son ...</td>\n",
       "      <td>SamanthaJos</td>\n",
       "      <td>https://yt3.ggpht.com/mnI_vufYUj0NAzOKyXRUSLaP...</td>\n",
       "      <td>http://www.youtube.com/channel/UCcxeH3PZFkZgE0...</td>\n",
       "      <td>UCcxeH3PZFkZgE0v38tA9M7Q</td>\n",
       "      <td>2023-01-08T18:47:40Z</td>\n",
       "      <td>['http://4.fo/HOT-Amateur']</td>\n",
       "    </tr>\n",
       "    <tr>\n",
       "      <th>4</th>\n",
       "      <td>cMxFNUKVZW0</td>\n",
       "      <td>Ugyz7Z6W5hphLOiZV5R4AaABAg</td>\n",
       "      <td>In kosovo  its the same    we  have   a big  o...</td>\n",
       "      <td>In kosovo  its the same    we  have   a big  o...</td>\n",
       "      <td>Ermal Gjurgjialo</td>\n",
       "      <td>https://yt3.ggpht.com/ytc/AMLnZu8-5oL1yWmyUxai...</td>\n",
       "      <td>http://www.youtube.com/channel/UCI8FV0_GRsQIBP...</td>\n",
       "      <td>UCI8FV0_GRsQIBPMLhWbWMrQ</td>\n",
       "      <td>2022-10-02T17:55:48Z</td>\n",
       "      <td>['http://500.km/']</td>\n",
       "    </tr>\n",
       "    <tr>\n",
       "      <th>...</th>\n",
       "      <td>...</td>\n",
       "      <td>...</td>\n",
       "      <td>...</td>\n",
       "      <td>...</td>\n",
       "      <td>...</td>\n",
       "      <td>...</td>\n",
       "      <td>...</td>\n",
       "      <td>...</td>\n",
       "      <td>...</td>\n",
       "      <td>...</td>\n",
       "    </tr>\n",
       "    <tr>\n",
       "      <th>50296</th>\n",
       "      <td>--n4y_w4bio</td>\n",
       "      <td>UgxHyX7eVCg2LCVtrfh4AaABAg</td>\n",
       "      <td>Such kick is &lt;a href=\"http://horrible.no/\"&gt;hor...</td>\n",
       "      <td>Such kick is horrible.no more gentleman in suc...</td>\n",
       "      <td>Nuraini Mahmud</td>\n",
       "      <td>https://yt3.ggpht.com/ytc/AMLnZu-KLTuY7rvpQLfI...</td>\n",
       "      <td>http://www.youtube.com/channel/UCEGwT01SVvAZRD...</td>\n",
       "      <td>UCEGwT01SVvAZRD48sr8Qwkw</td>\n",
       "      <td>2022-12-05T13:54:27Z</td>\n",
       "      <td>['http://horrible.no/']</td>\n",
       "    </tr>\n",
       "    <tr>\n",
       "      <th>50297</th>\n",
       "      <td>--n4y_w4bio</td>\n",
       "      <td>UgyqX837M8XFL3YNzr94AaABAg</td>\n",
       "      <td>Ronaldo duhet te mos merret me topin.Ti hijne ...</td>\n",
       "      <td>Ronaldo duhet te mos merret me topin.Ti hijne ...</td>\n",
       "      <td>Mark Hajati</td>\n",
       "      <td>https://yt3.ggpht.com/ytc/AMLnZu_6rzcMY1dlpb81...</td>\n",
       "      <td>http://www.youtube.com/channel/UCWRm7pCQoEf_Zm...</td>\n",
       "      <td>UCWRm7pCQoEf_ZmaHYJPVNGA</td>\n",
       "      <td>2022-11-26T03:08:08Z</td>\n",
       "      <td>['http://argetuse.jo/']</td>\n",
       "    </tr>\n",
       "    <tr>\n",
       "      <th>50298</th>\n",
       "      <td>--tVDnQf49Y</td>\n",
       "      <td>UgztKc53m9y8HedDA754AaABAg</td>\n",
       "      <td>99프로가 모르는 46만원의 비밀 : &lt;a href=\"https://youtu.be...</td>\n",
       "      <td>99프로가 모르는 46만원의 비밀 : https://youtu.be/1SM7Yuc6...</td>\n",
       "      <td>70대 어머니와떠나는먹방여행</td>\n",
       "      <td>https://yt3.ggpht.com/d7p9MA5-DYuAboLVyVG2Esyo...</td>\n",
       "      <td>http://www.youtube.com/channel/UCc7eenRzcuNtJ2...</td>\n",
       "      <td>UCc7eenRzcuNtJ2v4Ej9Ihfw</td>\n",
       "      <td>2022-11-12T14:44:20Z</td>\n",
       "      <td>['http://gmail.com/']</td>\n",
       "    </tr>\n",
       "    <tr>\n",
       "      <th>50299</th>\n",
       "      <td>--tVDnQf49Y</td>\n",
       "      <td>UgyvkWVkwH2FHMxPNY54AaABAg</td>\n",
       "      <td>구독자 3일 특가 이벤트&lt;br&gt;[테팔] 열센서 셰프드프랑스 프라이팬 28cm &lt;br...</td>\n",
       "      <td>구독자 3일 특가 이벤트\\n[테팔] 열센서 셰프드프랑스 프라이팬 28cm \\n\\nh...</td>\n",
       "      <td>70대 어머니와떠나는먹방여행</td>\n",
       "      <td>https://yt3.ggpht.com/d7p9MA5-DYuAboLVyVG2Esyo...</td>\n",
       "      <td>http://www.youtube.com/channel/UCc7eenRzcuNtJ2...</td>\n",
       "      <td>UCc7eenRzcuNtJ2v4Ej9Ihfw</td>\n",
       "      <td>2022-11-06T02:38:25Z</td>\n",
       "      <td>['https://smartstore.naver.com/flytofreedom/pr...</td>\n",
       "    </tr>\n",
       "    <tr>\n",
       "      <th>50300</th>\n",
       "      <td>--VUAJlelGs</td>\n",
       "      <td>UgzxsmirmdbtNlhxcBZ4AaABAg</td>\n",
       "      <td>I love you dada jii⭐⭐⭐⭐⭐⭐⭐⭐⭐⭐⭐⭐⭐⭐⭐⭐⭐⭐⭐️⭐️⭐️⭐️⭐...</td>\n",
       "      <td>I love you dada jii⭐⭐⭐⭐⭐⭐⭐⭐⭐⭐⭐⭐⭐⭐⭐⭐⭐⭐⭐️⭐️⭐️⭐️⭐...</td>\n",
       "      <td>Tusarkanta Swain</td>\n",
       "      <td>https://yt3.ggpht.com/ytc/AMLnZu9YA1B_BONPppNK...</td>\n",
       "      <td>http://www.youtube.com/channel/UCxmrnyT1dTmLR5...</td>\n",
       "      <td>UCxmrnyT1dTmLR5-2MPqQl5A</td>\n",
       "      <td>2022-12-29T02:33:47Z</td>\n",
       "      <td>['https://media.tenor.com/kAawjRs_oVwAAAAM/com...</td>\n",
       "    </tr>\n",
       "  </tbody>\n",
       "</table>\n",
       "<p>50301 rows × 10 columns</p>\n",
       "</div>"
      ],
      "text/plain": [
       "          video_id                  comment_id  \\\n",
       "0      fFifeQ_JqwE  Ugy86jwFsLK8EpbwE-N4AaABAg   \n",
       "1      qpx5ExL6f7I  UgypRJ5PTeRL07441i94AaABAg   \n",
       "2      d7HmbK0X9Uw  Ugxjp25oZFD6bP1FkyJ4AaABAg   \n",
       "3      d7HmbK0X9Uw  UgwTLRm9iWq_VDGboD14AaABAg   \n",
       "4      cMxFNUKVZW0  Ugyz7Z6W5hphLOiZV5R4AaABAg   \n",
       "...            ...                         ...   \n",
       "50296  --n4y_w4bio  UgxHyX7eVCg2LCVtrfh4AaABAg   \n",
       "50297  --n4y_w4bio  UgyqX837M8XFL3YNzr94AaABAg   \n",
       "50298  --tVDnQf49Y  UgztKc53m9y8HedDA754AaABAg   \n",
       "50299  --tVDnQf49Y  UgyvkWVkwH2FHMxPNY54AaABAg   \n",
       "50300  --VUAJlelGs  UgzxsmirmdbtNlhxcBZ4AaABAg   \n",
       "\n",
       "                                         comment_display  \\\n",
       "0      <a href=\"about:invalid#zCSafez\"></a><a href=\"a...   \n",
       "1      That&#39;s skin infection caused by ring worms...   \n",
       "2      gran canción<br><a href=\"about:invalid#zCSafez...   \n",
       "3      Hezká písnička hrozně se mi líbí<br><a href=\"a...   \n",
       "4      In kosovo  its the same    we  have   a big  o...   \n",
       "...                                                  ...   \n",
       "50296  Such kick is <a href=\"http://horrible.no/\">hor...   \n",
       "50297  Ronaldo duhet te mos merret me topin.Ti hijne ...   \n",
       "50298  99프로가 모르는 46만원의 비밀 : <a href=\"https://youtu.be...   \n",
       "50299  구독자 3일 특가 이벤트<br>[테팔] 열센서 셰프드프랑스 프라이팬 28cm <br...   \n",
       "50300  I love you dada jii⭐⭐⭐⭐⭐⭐⭐⭐⭐⭐⭐⭐⭐⭐⭐⭐⭐⭐⭐️⭐️⭐️⭐️⭐...   \n",
       "\n",
       "                                        comment_original       author_name  \\\n",
       "0      \\r\\n20:23 Son unos de los  in.sv/MSTER_RAIZEL3...       Rose Froude   \n",
       "1      That's skin infection caused by ring worms. It...         Jeonben07   \n",
       "2      gran canción\\n\\n20:23 MY PHOTOS HE RE 4.FO/HOL...    Kylen Hondryan   \n",
       "3      Hezká písnička hrozně se mi líbí\\n\\n20:23 Son ...       SamanthaJos   \n",
       "4      In kosovo  its the same    we  have   a big  o...  Ermal Gjurgjialo   \n",
       "...                                                  ...               ...   \n",
       "50296  Such kick is horrible.no more gentleman in suc...    Nuraini Mahmud   \n",
       "50297  Ronaldo duhet te mos merret me topin.Ti hijne ...       Mark Hajati   \n",
       "50298  99프로가 모르는 46만원의 비밀 : https://youtu.be/1SM7Yuc6...   70대 어머니와떠나는먹방여행   \n",
       "50299  구독자 3일 특가 이벤트\\n[테팔] 열센서 셰프드프랑스 프라이팬 28cm \\n\\nh...   70대 어머니와떠나는먹방여행   \n",
       "50300  I love you dada jii⭐⭐⭐⭐⭐⭐⭐⭐⭐⭐⭐⭐⭐⭐⭐⭐⭐⭐⭐️⭐️⭐️⭐️⭐...  Tusarkanta Swain   \n",
       "\n",
       "                                  author_profile_img_url  \\\n",
       "0      https://yt3.ggpht.com/WLcw9T6jJ1aQlXhlAQ5uQHwu...   \n",
       "1      https://yt3.ggpht.com/Vc3Ide5uFiI6oM0snMIyjUk2...   \n",
       "2      https://yt3.ggpht.com/ytc/AMLnZu_Gh8TnejNnDEVl...   \n",
       "3      https://yt3.ggpht.com/mnI_vufYUj0NAzOKyXRUSLaP...   \n",
       "4      https://yt3.ggpht.com/ytc/AMLnZu8-5oL1yWmyUxai...   \n",
       "...                                                  ...   \n",
       "50296  https://yt3.ggpht.com/ytc/AMLnZu-KLTuY7rvpQLfI...   \n",
       "50297  https://yt3.ggpht.com/ytc/AMLnZu_6rzcMY1dlpb81...   \n",
       "50298  https://yt3.ggpht.com/d7p9MA5-DYuAboLVyVG2Esyo...   \n",
       "50299  https://yt3.ggpht.com/d7p9MA5-DYuAboLVyVG2Esyo...   \n",
       "50300  https://yt3.ggpht.com/ytc/AMLnZu9YA1B_BONPppNK...   \n",
       "\n",
       "                                      author_channel_url  \\\n",
       "0      http://www.youtube.com/channel/UCWpDmqyLCVHKuC...   \n",
       "1      http://www.youtube.com/channel/UCjjsbYXufcXswf...   \n",
       "2      http://www.youtube.com/channel/UCVaFe8_hwIJ15E...   \n",
       "3      http://www.youtube.com/channel/UCcxeH3PZFkZgE0...   \n",
       "4      http://www.youtube.com/channel/UCI8FV0_GRsQIBP...   \n",
       "...                                                  ...   \n",
       "50296  http://www.youtube.com/channel/UCEGwT01SVvAZRD...   \n",
       "50297  http://www.youtube.com/channel/UCWRm7pCQoEf_Zm...   \n",
       "50298  http://www.youtube.com/channel/UCc7eenRzcuNtJ2...   \n",
       "50299  http://www.youtube.com/channel/UCc7eenRzcuNtJ2...   \n",
       "50300  http://www.youtube.com/channel/UCxmrnyT1dTmLR5...   \n",
       "\n",
       "              author_channel_id          publish_date  \\\n",
       "0      UCWpDmqyLCVHKuCjdVpQrRLw  2022-12-31T15:56:12Z   \n",
       "1      UCjjsbYXufcXswfd5sPxwtxA  2023-01-01T10:07:53Z   \n",
       "2      UCVaFe8_hwIJ15E0tzqaQSNA  2023-01-09T05:12:32Z   \n",
       "3      UCcxeH3PZFkZgE0v38tA9M7Q  2023-01-08T18:47:40Z   \n",
       "4      UCI8FV0_GRsQIBPMLhWbWMrQ  2022-10-02T17:55:48Z   \n",
       "...                         ...                   ...   \n",
       "50296  UCEGwT01SVvAZRD48sr8Qwkw  2022-12-05T13:54:27Z   \n",
       "50297  UCWRm7pCQoEf_ZmaHYJPVNGA  2022-11-26T03:08:08Z   \n",
       "50298  UCc7eenRzcuNtJ2v4Ej9Ihfw  2022-11-12T14:44:20Z   \n",
       "50299  UCc7eenRzcuNtJ2v4Ej9Ihfw  2022-11-06T02:38:25Z   \n",
       "50300  UCxmrnyT1dTmLR5-2MPqQl5A  2022-12-29T02:33:47Z   \n",
       "\n",
       "                                                    urls  \n",
       "0                        ['http://in.sv/MSTER_RAIZEL33']  \n",
       "1                                    ['http://doc.lol/']  \n",
       "2                            ['http://4.fo/HOLLYSPUSSY']  \n",
       "3                            ['http://4.fo/HOT-Amateur']  \n",
       "4                                     ['http://500.km/']  \n",
       "...                                                  ...  \n",
       "50296                            ['http://horrible.no/']  \n",
       "50297                            ['http://argetuse.jo/']  \n",
       "50298                              ['http://gmail.com/']  \n",
       "50299  ['https://smartstore.naver.com/flytofreedom/pr...  \n",
       "50300  ['https://media.tenor.com/kAawjRs_oVwAAAAM/com...  \n",
       "\n",
       "[50301 rows x 10 columns]"
      ]
     },
     "execution_count": 27,
     "metadata": {},
     "output_type": "execute_result"
    }
   ],
   "source": [
    "df_1"
   ]
  },
  {
   "cell_type": "code",
   "execution_count": 28,
   "metadata": {},
   "outputs": [
    {
     "name": "stderr",
     "output_type": "stream",
     "text": [
      "100%|██████████| 50301/50301 [00:02<00:00, 19818.90it/s]\n"
     ]
    },
    {
     "data": {
      "text/plain": [
       "58340"
      ]
     },
     "execution_count": 28,
     "metadata": {},
     "output_type": "execute_result"
    }
   ],
   "source": [
    "import ast\n",
    "from tqdm import tqdm\n",
    "\n",
    "count = 0\n",
    "urls = []\n",
    "for i in tqdm(range(len(df_1))):\n",
    "    count += len(ast.literal_eval(df_1.loc[i,'urls']))\n",
    "    urls += ast.literal_eval(df_1.loc[i,'urls'])\n",
    "\n",
    "count"
   ]
  },
  {
   "cell_type": "code",
   "execution_count": 29,
   "metadata": {},
   "outputs": [],
   "source": [
    "urls = list(set(urls))\n",
    "with open('./urls_unique.txt', 'w', encoding='utf-8') as f:\n",
    "    for url in urls:\n",
    "        f.write(url + '\\n')"
   ]
  },
  {
   "cell_type": "code",
   "execution_count": null,
   "metadata": {},
   "outputs": [],
   "source": []
  }
 ],
 "metadata": {
  "kernelspec": {
   "display_name": "py38",
   "language": "python",
   "name": "python3"
  },
  "language_info": {
   "codemirror_mode": {
    "name": "ipython",
    "version": 3
   },
   "file_extension": ".py",
   "mimetype": "text/x-python",
   "name": "python",
   "nbconvert_exporter": "python",
   "pygments_lexer": "ipython3",
   "version": "3.8.12"
  },
  "orig_nbformat": 4,
  "vscode": {
   "interpreter": {
    "hash": "aef1b1a3732fc5e65c852b8ce7773114d777f0f26fa8518baff740de7d177da9"
   }
  }
 },
 "nbformat": 4,
 "nbformat_minor": 2
}
